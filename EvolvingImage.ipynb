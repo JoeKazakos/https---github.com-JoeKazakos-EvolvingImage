{
 "cells": [
  {
   "cell_type": "code",
   "execution_count": 976,
   "metadata": {
    "collapsed": true
   },
   "outputs": [],
   "source": [
    "# %%pycodestyle\n"
   ]
  },
  {
   "cell_type": "code",
   "execution_count": 977,
   "metadata": {
    "collapsed": false
   },
   "outputs": [],
   "source": [
    "\n",
    "from deap import base\n",
    "from deap import creator\n",
    "from deap import tools\n",
    "\n",
    "from PIL import Image\n",
    "from PIL import ImageChops\n",
    "import numpy as np\n",
    "import math\n",
    "import operator\n",
    "\n",
    "from deap import base, creator, tools, algorithms\n",
    "from PIL import Image, ImageDraw\n",
    "from functools import partial\n",
    "from math import sqrt\n",
    "import numpy\n",
    "import random\n",
    "import pickle\n",
    "import pandas as pd\n",
    "import os.path\n",
    "from functools import reduce\n",
    "from operator import add, itemgetter\n",
    "\n"
   ]
  },
  {
   "cell_type": "code",
   "execution_count": 978,
   "metadata": {
    "collapsed": false
   },
   "outputs": [],
   "source": [
    "\n",
    "PIC = Image.open('template.jpg')\n",
    "SIZE = 100\n",
    "VALUES_PER_GENE = 13\n",
    "\n",
    "NUMBER_OF_TRIANGLES = 75\n",
    "POPULATION = 100\n",
    "NGEN = 1000\n",
    "CXPB = .5\n",
    "MUTPB = .5\n",
    "\n",
    "FREQ = 2\n",
    "\n",
    "NUM_OF_DRAW_OPTIONS = len([\"circle\", \"triangle\", \"line\", \"rectangle\"])\n",
    "MAX_CIR_RADIUS = int(SIZE * .1)\n",
    "LINE_LENGTH = int(SIZE * .15)\n",
    "LINE_WIDTH = int(SIZE*.01)\n"
   ]
  },
  {
   "cell_type": "code",
   "execution_count": 979,
   "metadata": {
    "collapsed": false
   },
   "outputs": [],
   "source": [
    "\n",
    "\n",
    "def computeSimilarity(allInds):\n",
    "    numpyInds = numpy.array(allInds)\n",
    "    groupedGeneShape = (NUMBER_OF_TRIANGLES*VALUES_PER_GENE, POPULATION)\n",
    "    groupedGenes = np.reshape(numpyInds.ravel(order='F'), groupedGeneShape)\n",
    "    numpy.ndarray.sort(groupedGenes, axis=1)\n",
    "\n",
    "    diffs = numpy.apply_along_axis(np.diff, 1, groupedGenes)\n",
    "\n",
    "    multipliers = [i * (POPULATION-i) for i in range(POPULATION)]\n",
    "    multipliers = multipliers[1:]\n",
    "\n",
    "    scaledDiffs = numpy.apply_along_axis(lambda x: x*multipliers, 1, diffs)\n",
    "    averageDiffInGene = numpy.apply_along_axis(numpy.mean, 1, diffs)\n",
    "\n",
    "    return 1-numpy.mean(averageDiffInGene)"
   ]
  },
  {
   "cell_type": "code",
   "execution_count": 980,
   "metadata": {
    "collapsed": false
   },
   "outputs": [],
   "source": [
    "\n",
    "\n",
    "def gen_one_triangle():\n",
    "    return [random.random() for i in range(VALUES_PER_GENE)]"
   ]
  },
  {
   "cell_type": "code",
   "execution_count": 981,
   "metadata": {
    "collapsed": false
   },
   "outputs": [],
   "source": [
    "\n",
    "\n",
    "def drawImage(triangles):\n",
    "    im = Image.new('RGB', (SIZE, SIZE), (255, 255, 255))\n",
    "    for tri in triangles[1:]:\n",
    "        mask = Image.new('RGBA', (SIZE, SIZE))\n",
    "        draw = ImageDraw.Draw(mask)\n",
    "\n",
    "        drawShape = int(tri[0] * NUM_OF_DRAW_OPTIONS)\n",
    "        x1 = int(tri[1] * SIZE)\n",
    "        y1 = int(tri[2] * SIZE)\n",
    "        x2 = int(tri[3] * SIZE)\n",
    "        y2 = int(tri[4] * SIZE)\n",
    "        x3 = int(tri[5] * SIZE)\n",
    "        y3 = int(tri[6] * SIZE)\n",
    "        r = int(tri[7] * 255)\n",
    "        g = int(tri[8] * 255)\n",
    "        b = int(tri[9] * 255)\n",
    "        alpha = int(tri[10] * 40)\n",
    "        radius = int(tri[11] * MAX_CIR_RADIUS)\n",
    "        direction = math.radians(int(tri[12]*360))\n",
    "\n",
    "        fillColor = (r, g, b, alpha)\n",
    "\n",
    "        # triangle\n",
    "        if drawShape == 0:\n",
    "            triangle = ((x1, y1), (x2, y2), (x3, y3))\n",
    "            fillColor = (r, g, b, alpha)\n",
    "            draw.polygon(triangle, fill=fillColor)\n",
    "\n",
    "        # circle\n",
    "        if drawShape == 1:\n",
    "            lowerX, upperX = x1-radius, x1+radius\n",
    "            lowerY, upperY = y1-radius, y1+radius\n",
    "            fillColor = (r, g, b, alpha)\n",
    "            draw.ellipse((lowerX, lowerY, upperX, upperY), fill=fillColor)\n",
    "\n",
    "        # line\n",
    "        if drawShape == 2:\n",
    "            x2 = x1 + math.cos(direction) * LINE_LENGTH\n",
    "            y2 = y1 + math.sin(direction) * LINE_LENGTH\n",
    "            draw.line([x1, y1, x2, y2], width=LINE_WIDTH, fill=fillColor)\n",
    "\n",
    "        # rectangle\n",
    "        if drawShape == 3:\n",
    "            draw.rectangle([x1, y1, x2, y2], fill=fillColor)\n",
    "\n",
    "        im.paste(mask, mask=mask)\n",
    "        del mask, draw\n",
    "    return im\n"
   ]
  },
  {
   "cell_type": "code",
   "execution_count": 982,
   "metadata": {
    "collapsed": true
   },
   "outputs": [],
   "source": [
    "\n",
    "\n",
    "def evaluate(im1, t2):\n",
    "    im2 = drawImage(t2)\n",
    "\n",
    "    h = ImageChops.difference(im1, im2).histogram()\n",
    "    length = int(len(h)/3)\n",
    "\n",
    "    r = h[length*0:length*1]\n",
    "    g = h[length*1:length*2]\n",
    "    b = h[length*2:length*3]\n",
    "\n",
    "    h = [sum(x) for x in zip(r, g, b)]\n",
    "    errSqrd = sum(h*(i**2) for i, h in enumerate(h)) / float(SIZE * SIZE * 3)\n",
    "    err = math.sqrt(errSqrd) / 256\n",
    "    return 1 - err,"
   ]
  },
  {
   "cell_type": "code",
   "execution_count": 983,
   "metadata": {
    "collapsed": true
   },
   "outputs": [],
   "source": [
    "\n",
    "\n",
    "def getAdaptiveMutationStats(mutationStats):\n",
    "    weightOfTypesOfMutations = mutationStats[0:3]\n",
    "    sumOfWeightOfTypesOfMutations = sum(weightOfTypesOfMutations)\n",
    "    scaledWeightOfTypesOfMutations = [x / sumOfWeightOfTypesOfMutations for x in weightOfTypesOfMutations]\n",
    "    roundsOfMutation = math.ceil(mutationStats[3]/mutationStats[4])\n",
    "    \n",
    "    return scaledWeightOfTypesOfMutations + [roundsOfMutation]"
   ]
  },
  {
   "cell_type": "code",
   "execution_count": 984,
   "metadata": {
    "collapsed": true
   },
   "outputs": [],
   "source": [
    "\n",
    "\n",
    "def computeMutationRatesStats_Random(allInds):\n",
    "    firstTriangles = numpy.array(list(allInds))[:][0]\n",
    "    mutationStats = numpy.apply_along_axis(getAdaptiveMutationStats, 1, firstTriangles)\n",
    "    return numpy.average(mutationStats[:,0])\n",
    "\n",
    "def computeMutationRatesStats_Small(allInds):\n",
    "    firstTriangles = numpy.array(list(allInds))[:][0]\n",
    "    mutationStats = numpy.apply_along_axis(getAdaptiveMutationStats, 1, firstTriangles)\n",
    "    return numpy.average(mutationStats[:,1])\n",
    "\n",
    "def computeMutationRatesStats_Big(allInds):\n",
    "    firstTriangles = numpy.array(list(allInds))[:][0]\n",
    "    mutationStats = numpy.apply_along_axis(getAdaptiveMutationStats, 1, firstTriangles)\n",
    "    return numpy.average(mutationStats[:,2])\n",
    "\n",
    "def computeMutationRatesStats_Rounds(allInds):\n",
    "    firstTriangles = numpy.array(list(allInds))[:][0]\n",
    "    mutationStats = numpy.apply_along_axis(getAdaptiveMutationStats, 1, firstTriangles)\n",
    "    return numpy.average(mutationStats[:,3])"
   ]
  },
  {
   "cell_type": "code",
   "execution_count": 985,
   "metadata": {
    "collapsed": false
   },
   "outputs": [],
   "source": [
    "\n",
    "\n",
    "def mutate(triangles):\n",
    "    adaptiveMutationStats = triangles[0]\n",
    "    \n",
    "    # types of mutation \n",
    "    # 1 Random float\n",
    "    # 2 Update by .5 - 1.5\n",
    "    # 3 Update by .95 - 1.05\n",
    "    \n",
    "    mutationStats = getAdaptiveMutationStats(adaptiveMutationStats[0:5])\n",
    "    \n",
    "    scaledWeightOfTypesOfMutations = mutationStats[0:3]\n",
    "    roundsOfMutation = mutationStats[3]\n",
    "    \n",
    "    for mutationRounds in range(roundsOfMutation):\n",
    "        typeOfMutation = numpy.random.choice(range(3),p=scaledWeightOfTypesOfMutations)\n",
    "        \n",
    "        triangleIndexToMutate = randint(0, len(triangles)-1)\n",
    "        triangleToMutate = triangles[triangleIndexToMutate]\n",
    "        valueIndexToMutate = randint(0, len(triangleToMutate)-1)\n",
    "        newValue = triangleToMutate[valueIndexToMutate]\n",
    "        \n",
    "        if typeOfMutation == 0:\n",
    "            newValue = random.random()\n",
    "            \n",
    "        if typeOfMutation == 1:\n",
    "            mutateMult = random.uniform(.5,1.5)\n",
    "            newValue = newValue * mutateMult\n",
    "        \n",
    "        if typeOfMutation == 2:\n",
    "            mutateMult = random.uniform(.95,1.05)\n",
    "            newValue = newValue * mutateMult\n",
    "            \n",
    "        triangles[triangleIndexToMutate][valueIndexToMutate] = newValue\n",
    "\n",
    "    return triangles,"
   ]
  },
  {
   "cell_type": "code",
   "execution_count": 986,
   "metadata": {
    "collapsed": false
   },
   "outputs": [],
   "source": [
    "\n",
    "\n",
    "def logbookToDataframe(logbook):\n",
    "    chapter_keys = logbook.chapters.keys()\n",
    "    sub_chaper_keys = [c[0].keys() for c in logbook.chapters.values()]\n",
    "\n",
    "    columns = reduce(add, [[\"_\".join([x, y]) for y in s] \n",
    "                           for x, s in zip(chapter_keys, sub_chaper_keys)])\n",
    "\n",
    "    df = pd.DataFrame(columns=columns)\n",
    "\n",
    "    for chapter in logbook.chapters:\n",
    "        for subchapter in logbook.chapters[chapter][0].keys():\n",
    "            colName = \"_\".join([chapter,subchapter])\n",
    "            values = logbook.chapters[chapter].select(subchapter)\n",
    "            df[colName] = values\n",
    "        \n",
    "    return df"
   ]
  },
  {
   "cell_type": "code",
   "execution_count": 987,
   "metadata": {
    "collapsed": false
   },
   "outputs": [
    {
     "name": "stderr",
     "output_type": "stream",
     "text": [
      "C:\\Users\\Joe\\Anaconda3\\lib\\site-packages\\deap\\creator.py:141: RuntimeWarning: A class named 'Fitness' has already been created and it will be overwritten. Consider deleting previous creation of that class or rename it.\n",
      "  RuntimeWarning)\n",
      "C:\\Users\\Joe\\Anaconda3\\lib\\site-packages\\deap\\creator.py:141: RuntimeWarning: A class named 'Individual' has already been created and it will be overwritten. Consider deleting previous creation of that class or rename it.\n",
      "  RuntimeWarning)\n"
     ]
    }
   ],
   "source": [
    "\n",
    "\n",
    "creator.create(\"Fitness\", base.Fitness, weights=(1.0,))\n",
    "creator.create(\"Individual\", list, fitness=creator.Fitness)\n",
    "\n",
    "toolbox = base.Toolbox()\n",
    "toolbox.register(\"attr\", gen_one_triangle)\n",
    "toolbox.register(\"individual\", tools.initRepeat,\n",
    "                 creator.Individual, toolbox.attr, NUMBER_OF_TRIANGLES)\n",
    "toolbox.register(\"population\", tools.initRepeat,\n",
    "                 list, toolbox.individual)\n",
    "\n",
    "toolbox.register(\"evaluate\", partial(evaluate, PIC))\n",
    "toolbox.register(\"mate\", tools.cxTwoPoint)\n",
    "toolbox.register(\"mutate\", mutate)\n",
    "#toolbox.register(\"select\", tools.selTournament, tournsize=3)\n",
    "toolbox.register(\"select\", tools.selRoulette)\n",
    "\n",
    "\n",
    "logbook = None"
   ]
  },
  {
   "cell_type": "code",
   "execution_count": 988,
   "metadata": {
    "collapsed": false
   },
   "outputs": [],
   "source": [
    "\n",
    "def main(checkpoint=None):\n",
    "    if checkpoint and os.path.isfile(checkpoint):\n",
    "        # A file name has been given, then load the data from the file\n",
    "        with open(checkpoint, \"rb\") as cp_file:\n",
    "            cp = pickle.load(cp_file)\n",
    "        pop = cp[\"population\"]\n",
    "        start_gen = cp[\"generation\"]\n",
    "        hof = cp[\"halloffame\"]\n",
    "        logbook = cp[\"logbook\"]\n",
    "        random.setstate(cp[\"rndstate\"])\n",
    "    else:\n",
    "        # Start a new evolution\n",
    "        pop = toolbox.population(n=POPULATION)\n",
    "        start_gen = 0\n",
    "        hof = tools.HallOfFame(maxsize=1)\n",
    "        logbook = tools.Logbook()\n",
    "\n",
    "    stats_fit = tools.Statistics(lambda ind: ind.fitness.values)\n",
    "    stats_pop_trends = tools.Statistics(lambda ind: ind)\n",
    "    stats_fit.register(\"std\", numpy.std)\n",
    "    stats_fit.register(\"max\", numpy.max)\n",
    "    stats_fit.register(\"avg\", numpy.mean)\n",
    "    stats_fit.register(\"min\", numpy.min)\n",
    "    stats_pop_trends.register(\"similarity\", computeSimilarity)\n",
    "    stats_pop_trends.register(\"mutation_random\", computeMutationRatesStats_Random)\n",
    "    stats_pop_trends.register(\"mutation_small\", computeMutationRatesStats_Small)\n",
    "    stats_pop_trends.register(\"mutation_large\", computeMutationRatesStats_Big)\n",
    "    stats_pop_trends.register(\"mutation_rounds\", computeMutationRatesStats_Rounds)\n",
    "\n",
    "    mstats = tools.MultiStatistics(fitness=stats_fit, stats_pop_trends=stats_pop_trends)\n",
    "\n",
    "    log = \"\"\n",
    "    try:\n",
    "        for gen in range(start_gen, NGEN):\n",
    "            pop = algorithms.varAnd(pop, toolbox, cxpb=CXPB, mutpb=MUTPB)\n",
    "\n",
    "            # Evaluate the individuals with an invalid fitness\n",
    "            invalid_ind = [ind for ind in pop if not ind.fitness.valid]\n",
    "            fitnesses = toolbox.map(toolbox.evaluate, invalid_ind)\n",
    "            for ind, fit in zip(invalid_ind, fitnesses):\n",
    "                ind.fitness.values = fit\n",
    "\n",
    "            hof.update(pop)\n",
    "            record = mstats.compile(pop)\n",
    "            logbook.record(gen=gen, evals=len(invalid_ind), **record)\n",
    "            print(logbook.stream)\n",
    "\n",
    "            pop = toolbox.select(pop, k=len(pop))\n",
    "            pop = list(map(toolbox.clone, pop))\n",
    "\n",
    "\n",
    "            if gen % FREQ == 0:\n",
    "                # Fill the dictionary using the dict(key=value[, ...])\n",
    "                # constructor\n",
    "                cp = dict(population=pop, generation=gen, halloffame=hof,\n",
    "                          logbook=logbook, rndstate=random.getstate())\n",
    "\n",
    "                with open(\"checkpoint.pkl\", \"wb\") as cp_file:\n",
    "                    pickle.dump(cp, cp_file)\n",
    "    finally:\n",
    "        df_log = logbookToDataframe(logbook)\n",
    "        df_log.to_csv('stats.txt', index=False)\n",
    "        open('result.txt', 'w').write(repr(hof[0]))\n",
    "        drawImage(hof[0]).save('result.png')\n",
    "        #print(df_log)\n",
    "    return logbook\n",
    "\n",
    "# if __name__ == '__main__':\n",
    "    # main(\"checkpoint.pkl\")\n",
    "    # main()"
   ]
  },
  {
   "cell_type": "code",
   "execution_count": null,
   "metadata": {
    "collapsed": true
   },
   "outputs": [],
   "source": []
  },
  {
   "cell_type": "code",
   "execution_count": null,
   "metadata": {
    "collapsed": false
   },
   "outputs": [
    {
     "name": "stdout",
     "output_type": "stream",
     "text": [
      "     \t   \t                         fitness                         \t                             stats_pop_trends                             \n",
      "     \t   \t---------------------------------------------------------\t--------------------------------------------------------------------------\n",
      "evals\tgen\tavg     \tmax     \tmin     \tstd      \tmutation_large\tmutation_random\tmutation_rounds\tmutation_small\tsimilarity\n",
      "100  \t0  \t0.501658\t0.574275\t0.448267\t0.0219963\t0.341623      \t0.314601       \t3.13333        \t0.343776      \t0.99009   \n",
      "78   \t1  \t0.504041\t0.553861\t0.454137\t0.0185664\t0.300889      \t0.349279       \t2.46667        \t0.349831      \t0.990203  \n",
      "75   \t2  \t0.505229\t0.553861\t0.454137\t0.0228775\t0.311874      \t0.341513       \t2.57333        \t0.346613      \t0.990261  \n",
      "71   \t3  \t0.509818\t0.561798\t0.457417\t0.0231406\t0.288083      \t0.346263       \t2.36           \t0.365654      \t0.990408  \n",
      "77   \t4  \t0.510375\t0.56514 \t0.457417\t0.024079 \t0.300712      \t0.329976       \t2.6            \t0.369312      \t0.990576  \n",
      "83   \t5  \t0.511014\t0.561506\t0.462295\t0.0239676\t0.309908      \t0.308328       \t15.96          \t0.381764      \t0.990681  \n",
      "67   \t6  \t0.51535 \t0.56407 \t0.461853\t0.0237737\t0.309908      \t0.308328       \t15.96          \t0.381764      \t0.990778  \n",
      "70   \t7  \t0.515833\t0.56407 \t0.461853\t0.0252911\t0.303782      \t0.356925       \t4.65333        \t0.339292      \t0.990936  \n",
      "78   \t8  \t0.516842\t0.56407 \t0.461853\t0.0257195\t0.374064      \t0.324283       \t2.22667        \t0.301653      \t0.991054  \n",
      "73   \t9  \t0.51301 \t0.58362 \t0.451736\t0.0267057\t0.29811       \t0.352599       \t6.36           \t0.349291      \t0.991298  \n",
      "79   \t10 \t0.51459 \t0.563334\t0.453057\t0.0222879\t0.309615      \t0.351919       \t6.24           \t0.338466      \t0.991357  \n",
      "77   \t11 \t0.515815\t0.554882\t0.452002\t0.0216289\t0.305711      \t0.350978       \t8.01333        \t0.343311      \t0.991431  \n",
      "76   \t12 \t0.514935\t0.556241\t0.452002\t0.0205262\t0.313901      \t0.34731        \t6.54667        \t0.338789      \t0.991517  \n",
      "75   \t13 \t0.518346\t0.571274\t0.460022\t0.0207964\t0.300814      \t0.35936        \t6.26667        \t0.339826      \t0.991668  \n",
      "70   \t14 \t0.519092\t0.571997\t0.460022\t0.0217504\t0.349577      \t0.319722       \t14.4533        \t0.330702      \t0.991727  \n",
      "61   \t15 \t0.51802 \t0.572278\t0.469604\t0.0224279\t0.331682      \t0.335094       \t190.6          \t0.333224      \t0.991814  \n",
      "77   \t16 \t0.515972\t0.572278\t0.462849\t0.0221243\t0.347607      \t0.302989       \t190.32         \t0.349404      \t0.991814  \n",
      "66   \t17 \t0.521382\t0.572278\t0.470639\t0.0218054\t0.33202       \t0.32391        \t190.68         \t0.344069      \t0.991895  \n",
      "69   \t18 \t0.522745\t0.57225 \t0.475595\t0.0221055\t0.316903      \t0.339779       \t191.853        \t0.343318      \t0.991931  \n",
      "79   \t19 \t0.524371\t0.572314\t0.473916\t0.0206528\t0.368256      \t0.306383       \t15.8933        \t0.325361      \t0.991935  \n"
     ]
    }
   ],
   "source": [
    "\n",
    "main()\n",
    "import cProfile\n",
    "#cProfile.run('main()')\n"
   ]
  },
  {
   "cell_type": "code",
   "execution_count": null,
   "metadata": {
    "collapsed": false,
    "scrolled": true
   },
   "outputs": [],
   "source": []
  },
  {
   "cell_type": "code",
   "execution_count": null,
   "metadata": {
    "collapsed": false
   },
   "outputs": [],
   "source": []
  },
  {
   "cell_type": "code",
   "execution_count": null,
   "metadata": {
    "collapsed": false
   },
   "outputs": [],
   "source": []
  },
  {
   "cell_type": "code",
   "execution_count": null,
   "metadata": {
    "collapsed": false
   },
   "outputs": [],
   "source": []
  }
 ],
 "metadata": {
  "kernelspec": {
   "display_name": "Python 3",
   "language": "python",
   "name": "python3"
  },
  "language_info": {
   "codemirror_mode": {
    "name": "ipython",
    "version": 3
   },
   "file_extension": ".py",
   "mimetype": "text/x-python",
   "name": "python",
   "nbconvert_exporter": "python",
   "pygments_lexer": "ipython3",
   "version": "3.5.4"
  }
 },
 "nbformat": 4,
 "nbformat_minor": 0
}
