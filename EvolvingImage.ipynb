{
 "cells": [
  {
   "cell_type": "code",
   "execution_count": 137,
   "metadata": {
    "collapsed": true
   },
   "outputs": [],
   "source": [
    "# %%pycodestyle\n"
   ]
  },
  {
   "cell_type": "code",
   "execution_count": 138,
   "metadata": {
    "collapsed": false
   },
   "outputs": [],
   "source": [
    "\n",
    "from deap import base\n",
    "from deap import creator\n",
    "from deap import tools\n",
    "\n",
    "from PIL import Image\n",
    "from PIL import ImageChops\n",
    "import numpy as np\n",
    "import math\n",
    "import operator\n",
    "\n",
    "from deap import base, creator, tools, algorithms\n",
    "from PIL import Image, ImageDraw\n",
    "from functools import partial\n",
    "from math import sqrt\n",
    "import numpy\n",
    "import random\n",
    "import pickle\n",
    "import pandas as pd\n",
    "import os.path\n",
    "from functools import reduce\n",
    "from operator import add, itemgetter\n",
    "\n"
   ]
  },
  {
   "cell_type": "code",
   "execution_count": 139,
   "metadata": {
    "collapsed": false
   },
   "outputs": [],
   "source": [
    "\n",
    "PIC = Image.open('template_big.jpg')\n",
    "SIZE = 1000\n",
    "VALUES_PER_GENE = 13\n",
    "\n",
    "NUMBER_OF_TRIANGLES = 100\n",
    "POPULATION = 500\n",
    "NUM_ISLANDS = 1\n",
    "NGEN = 10000\n",
    "MIG_RATE = 50\n",
    "CXPB = .5\n",
    "MUTPB = .2\n",
    "\n",
    "FREQ = 5\n",
    "\n",
    "NUM_OF_DRAW_OPTIONS = len([\"circle\", \"triangle\", \"line\", \"rectangle\"])\n",
    "MAX_CIR_RADIUS = int(SIZE * .1)\n",
    "LINE_LENGTH = int(SIZE * .15)\n",
    "LINE_WIDTH = int(SIZE*.01)\n"
   ]
  },
  {
   "cell_type": "code",
   "execution_count": 140,
   "metadata": {
    "collapsed": false
   },
   "outputs": [],
   "source": [
    "\n",
    "\n",
    "def computeSimilarity(allInds):\n",
    "    numpyInds = numpy.array(allInds)\n",
    "    totalPop = len(allInds)\n",
    "    groupedGeneShape = (NUMBER_OF_TRIANGLES*VALUES_PER_GENE, totalPop)\n",
    "    groupedGenes = np.reshape(numpyInds.ravel(order='F'), groupedGeneShape)\n",
    "    numpy.ndarray.sort(groupedGenes, axis=1)\n",
    "\n",
    "    diffs = numpy.apply_along_axis(np.diff, 1, groupedGenes)\n",
    "\n",
    "    multipliers = [i * (totalPop-i) for i in range(totalPop)]\n",
    "    multipliers = multipliers[1:]\n",
    "    \n",
    "    scaledDiffs = numpy.apply_along_axis(lambda x: x*multipliers, 1, diffs)\n",
    "    numOfCombos = (totalPop*(totalPop-1)/2)\n",
    "    averageDiffInGene = numpy.apply_along_axis(lambda x: sum(x)/numOfCombos, 1, scaledDiffs)\n",
    "\n",
    "    averageDiffAllGenes = np.mean(averageDiffInGene)\n",
    "    \n",
    "    return 1-numpy.mean(averageDiffAllGenes)"
   ]
  },
  {
   "cell_type": "code",
   "execution_count": 141,
   "metadata": {
    "collapsed": false
   },
   "outputs": [],
   "source": [
    "\n",
    "\n",
    "def gen_one_triangle():\n",
    "    return [random.random() for i in range(VALUES_PER_GENE)]"
   ]
  },
  {
   "cell_type": "code",
   "execution_count": 142,
   "metadata": {
    "collapsed": false
   },
   "outputs": [],
   "source": [
    "\n",
    "\n",
    "def drawImage(triangles):\n",
    "    im = Image.new('RGB', (SIZE, SIZE), (255, 255, 255))\n",
    "    for tri in triangles[1:]:\n",
    "        mask = Image.new('RGBA', (SIZE, SIZE))\n",
    "        draw = ImageDraw.Draw(mask)\n",
    "\n",
    "        drawShape = int(tri[0] * NUM_OF_DRAW_OPTIONS)\n",
    "        x1 = int(tri[1] * SIZE)\n",
    "        y1 = int(tri[2] * SIZE)\n",
    "        x2 = int(tri[3] * SIZE)\n",
    "        y2 = int(tri[4] * SIZE)\n",
    "        x3 = int(tri[5] * SIZE)\n",
    "        y3 = int(tri[6] * SIZE)\n",
    "        r = int(tri[7] * 255)\n",
    "        g = int(tri[8] * 255)\n",
    "        b = int(tri[9] * 255)\n",
    "        alpha = int(tri[10] * 40)\n",
    "        radius = int(tri[11] * MAX_CIR_RADIUS)\n",
    "        direction = math.radians(int(tri[12]*360))\n",
    "\n",
    "        fillColor = (r, g, b, alpha)\n",
    "\n",
    "        # triangle\n",
    "        if drawShape == 0:\n",
    "            triangle = ((x1, y1), (x2, y2), (x3, y3))\n",
    "            fillColor = (r, g, b, alpha)\n",
    "            draw.polygon(triangle, fill=fillColor)\n",
    "\n",
    "        # circle\n",
    "        if drawShape == 1:\n",
    "            lowerX, upperX = x1-radius, x1+radius\n",
    "            lowerY, upperY = y1-radius, y1+radius\n",
    "            fillColor = (r, g, b, alpha)\n",
    "            draw.ellipse((lowerX, lowerY, upperX, upperY), fill=fillColor)\n",
    "\n",
    "        # line\n",
    "        if drawShape == 2:\n",
    "            x2 = x1 + math.cos(direction) * LINE_LENGTH\n",
    "            y2 = y1 + math.sin(direction) * LINE_LENGTH\n",
    "            draw.line([x1, y1, x2, y2], width=LINE_WIDTH, fill=fillColor)\n",
    "\n",
    "        # rectangle\n",
    "        if drawShape == 3:\n",
    "            draw.rectangle([x1, y1, x2, y2], fill=fillColor)\n",
    "\n",
    "        im.paste(mask, mask=mask)\n",
    "        del mask, draw\n",
    "    return im\n"
   ]
  },
  {
   "cell_type": "code",
   "execution_count": 143,
   "metadata": {
    "collapsed": true
   },
   "outputs": [],
   "source": [
    "\n",
    "\n",
    "def evaluate(im1, t2):\n",
    "    im2 = drawImage(t2)\n",
    "\n",
    "    h = ImageChops.difference(im1, im2).histogram()\n",
    "    length = int(len(h)/3)\n",
    "\n",
    "    r = h[length*0:length*1]\n",
    "    g = h[length*1:length*2]\n",
    "    b = h[length*2:length*3]\n",
    "\n",
    "    h = [sum(x) for x in zip(r, g, b)]\n",
    "    errSqrd = sum(h*(i**2) for i, h in enumerate(h)) / float(SIZE * SIZE * 3)\n",
    "    err = math.sqrt(errSqrd) / 256\n",
    "    return 1 - err,"
   ]
  },
  {
   "cell_type": "code",
   "execution_count": 144,
   "metadata": {
    "collapsed": true
   },
   "outputs": [],
   "source": [
    "\n",
    "\n",
    "def getAdaptiveMutationStats(mutationStats):\n",
    "    weightOfTypesOfMutations = mutationStats[0:3]\n",
    "    sumOfWeightOfTypesOfMutations = sum(weightOfTypesOfMutations)\n",
    "    scaledWeightOfTypesOfMutations = [x / sumOfWeightOfTypesOfMutations for x in weightOfTypesOfMutations]\n",
    "    roundsOfMutation = math.ceil(mutationStats[3]/mutationStats[4])\n",
    "    \n",
    "    return scaledWeightOfTypesOfMutations + [roundsOfMutation]"
   ]
  },
  {
   "cell_type": "code",
   "execution_count": 145,
   "metadata": {
    "collapsed": true
   },
   "outputs": [],
   "source": [
    "\n",
    "\n",
    "def computeMutationRatesStats_Random(allInds):\n",
    "    firstTriangles = numpy.array(list(allInds))[:][0]\n",
    "    mutationStats = numpy.apply_along_axis(getAdaptiveMutationStats, 1, firstTriangles)\n",
    "    return numpy.average(mutationStats[:,0])\n",
    "\n",
    "def computeMutationRatesStats_Small(allInds):\n",
    "    firstTriangles = numpy.array(list(allInds))[:][0]\n",
    "    mutationStats = numpy.apply_along_axis(getAdaptiveMutationStats, 1, firstTriangles)\n",
    "    return numpy.average(mutationStats[:,1])\n",
    "\n",
    "def computeMutationRatesStats_Big(allInds):\n",
    "    firstTriangles = numpy.array(list(allInds))[:][0]\n",
    "    mutationStats = numpy.apply_along_axis(getAdaptiveMutationStats, 1, firstTriangles)\n",
    "    return numpy.average(mutationStats[:,2])\n",
    "\n",
    "def computeMutationRatesStats_Rounds(allInds):\n",
    "    firstTriangles = numpy.array(list(allInds))[:][0]\n",
    "    mutationStats = numpy.apply_along_axis(getAdaptiveMutationStats, 1, firstTriangles)\n",
    "    return numpy.average(mutationStats[:,3])"
   ]
  },
  {
   "cell_type": "code",
   "execution_count": 146,
   "metadata": {
    "collapsed": false
   },
   "outputs": [],
   "source": [
    "\n",
    "\n",
    "def mutate(triangles):\n",
    "    adaptiveMutationStats = triangles[0]\n",
    "    \n",
    "    # types of mutation \n",
    "    # 1 Random float\n",
    "    # 2 Update by .5 - 1.5\n",
    "    # 3 Update by .95 - 1.05\n",
    "    \n",
    "    mutationStats = getAdaptiveMutationStats(adaptiveMutationStats[0:5])\n",
    "    \n",
    "    scaledWeightOfTypesOfMutations = mutationStats[0:3]\n",
    "    roundsOfMutation = mutationStats[3]\n",
    "    \n",
    "    for mutationRounds in range(roundsOfMutation):\n",
    "        typeOfMutation = numpy.random.choice(range(3),p=scaledWeightOfTypesOfMutations)\n",
    "        \n",
    "        triangleIndexToMutate = random.randint(0, len(triangles)-1)\n",
    "        triangleToMutate = triangles[triangleIndexToMutate]\n",
    "        valueIndexToMutate = random.randint(0, len(triangleToMutate)-1)\n",
    "        newValue = triangleToMutate[valueIndexToMutate]\n",
    "        \n",
    "        if typeOfMutation == 0:\n",
    "            newValue = random.random()\n",
    "            \n",
    "        if typeOfMutation == 1:\n",
    "            mutateMult = random.uniform(.5,1.5)\n",
    "            newValue = newValue * mutateMult\n",
    "        \n",
    "        if typeOfMutation == 2:\n",
    "            mutateMult = random.uniform(.95,1.05)\n",
    "            newValue = newValue * mutateMult\n",
    "            \n",
    "        # range on possible new value\n",
    "        newValue = max(0,newValue)\n",
    "        newValue = min(1,newValue)\n",
    "            \n",
    "        triangles[triangleIndexToMutate][valueIndexToMutate] = newValue\n",
    "\n",
    "    return triangles,"
   ]
  },
  {
   "cell_type": "code",
   "execution_count": 147,
   "metadata": {
    "collapsed": false
   },
   "outputs": [],
   "source": [
    "\n",
    "\n",
    "def logbookToDataframe(logbook):\n",
    "    chapter_keys = logbook.chapters.keys()\n",
    "    sub_chaper_keys = [c[0].keys() for c in logbook.chapters.values()]\n",
    "\n",
    "    columns = reduce(add, [[\"_\".join([x, y]) for y in s] \n",
    "                           for x, s in zip(chapter_keys, sub_chaper_keys)])\n",
    "\n",
    "    df = pd.DataFrame(columns=columns)\n",
    "\n",
    "    for chapter in logbook.chapters:\n",
    "        for subchapter in logbook.chapters[chapter][0].keys():\n",
    "            colName = \"_\".join([chapter,subchapter])\n",
    "            values = logbook.chapters[chapter].select(subchapter)\n",
    "            df[colName] = values\n",
    "        \n",
    "    return df"
   ]
  },
  {
   "cell_type": "code",
   "execution_count": 148,
   "metadata": {
    "collapsed": false
   },
   "outputs": [],
   "source": [
    "def getFitnesses(pop):\n",
    "    fit = []\n",
    "    for ind in pop:\n",
    "        fit.append(ind.fitness.values)\n",
    "    return fit"
   ]
  },
  {
   "cell_type": "code",
   "execution_count": 149,
   "metadata": {
    "collapsed": true
   },
   "outputs": [],
   "source": [
    "def evaluateAllFitnesses(pop):\n",
    "    # Evaluate the individuals with an invalid fitness\n",
    "    invalid_ind = [ind for ind in pop if not ind.fitness.valid]\n",
    "    fitnesses = toolbox.map(toolbox.evaluate, invalid_ind)\n",
    "    for ind, fit in zip(invalid_ind, fitnesses):\n",
    "        ind.fitness.values = fit"
   ]
  },
  {
   "cell_type": "code",
   "execution_count": 150,
   "metadata": {
    "collapsed": false
   },
   "outputs": [
    {
     "name": "stderr",
     "output_type": "stream",
     "text": [
      "C:\\Users\\Joe\\Anaconda3\\lib\\site-packages\\deap\\creator.py:141: RuntimeWarning: A class named 'Fitness' has already been created and it will be overwritten. Consider deleting previous creation of that class or rename it.\n",
      "  RuntimeWarning)\n",
      "C:\\Users\\Joe\\Anaconda3\\lib\\site-packages\\deap\\creator.py:141: RuntimeWarning: A class named 'Individual' has already been created and it will be overwritten. Consider deleting previous creation of that class or rename it.\n",
      "  RuntimeWarning)\n"
     ]
    }
   ],
   "source": [
    "\n",
    "\n",
    "creator.create(\"Fitness\", base.Fitness, weights=(1.0,))\n",
    "creator.create(\"Individual\", list, fitness=creator.Fitness)\n",
    "\n",
    "toolbox = base.Toolbox()\n",
    "toolbox.register(\"attr\", gen_one_triangle)\n",
    "toolbox.register(\"individual\", tools.initRepeat,\n",
    "                 creator.Individual, toolbox.attr, NUMBER_OF_TRIANGLES)\n",
    "toolbox.register(\"population\", tools.initRepeat,\n",
    "                 list, toolbox.individual)\n",
    "\n",
    "toolbox.register(\"evaluate\", partial(evaluate, PIC))\n",
    "toolbox.register(\"mate\", tools.cxTwoPoint)\n",
    "toolbox.register(\"mutate\", mutate)\n",
    "toolbox.register(\"select\", tools.selTournament, tournsize=3)\n",
    "#toolbox.register(\"select\", tools.selRoulette)\n",
    "\n",
    "toolbox.register(\"algorithm\", algorithms.varAnd, toolbox=toolbox, cxpb=CXPB, mutpb=MUTPB)\n",
    "\n",
    "\n",
    "logbook = None"
   ]
  },
  {
   "cell_type": "code",
   "execution_count": 151,
   "metadata": {
    "collapsed": false
   },
   "outputs": [
    {
     "name": "stdout",
     "output_type": "stream",
     "text": [
      "326  \t715\t0.850679\t0.854222\t0.836522\t0.00240264\t0.321534      \t0.361153       \t5.77           \t0.317313      \t0.900044  \n",
      "305  \t716\t0.850752\t0.854214\t0.804742\t0.00335638\t0.320179      \t0.362739       \t5.76           \t0.317082      \t0.900006  \n"
     ]
    },
    {
     "ename": "KeyboardInterrupt",
     "evalue": "",
     "output_type": "error",
     "traceback": [
      "\u001b[1;31m---------------------------------------------------------------------------\u001b[0m",
      "\u001b[1;31mKeyboardInterrupt\u001b[0m                         Traceback (most recent call last)",
      "\u001b[1;32m<ipython-input-151-16f287d9071a>\u001b[0m in \u001b[0;36m<module>\u001b[1;34m()\u001b[0m\n\u001b[0;32m     87\u001b[0m \u001b[1;33m\u001b[0m\u001b[0m\n\u001b[0;32m     88\u001b[0m \u001b[1;32mif\u001b[0m \u001b[0m__name__\u001b[0m \u001b[1;33m==\u001b[0m \u001b[1;34m'__main__'\u001b[0m\u001b[1;33m:\u001b[0m\u001b[1;33m\u001b[0m\u001b[0m\n\u001b[1;32m---> 89\u001b[1;33m         \u001b[0mmain\u001b[0m\u001b[1;33m(\u001b[0m\u001b[1;34m\"checkpoint.pkl\"\u001b[0m\u001b[1;33m)\u001b[0m\u001b[1;33m\u001b[0m\u001b[0m\n\u001b[0m\u001b[0;32m     90\u001b[0m     \u001b[1;31m# main()\u001b[0m\u001b[1;33m\u001b[0m\u001b[1;33m\u001b[0m\u001b[0m\n",
      "\u001b[1;32m<ipython-input-151-16f287d9071a>\u001b[0m in \u001b[0;36mmain\u001b[1;34m(checkpoint)\u001b[0m\n\u001b[0;32m     38\u001b[0m \u001b[1;33m\u001b[0m\u001b[0m\n\u001b[0;32m     39\u001b[0m             \u001b[1;32mfor\u001b[0m \u001b[0mislandIndex\u001b[0m\u001b[1;33m,\u001b[0m \u001b[0misland\u001b[0m \u001b[1;32min\u001b[0m \u001b[0menumerate\u001b[0m\u001b[1;33m(\u001b[0m\u001b[0mislands\u001b[0m\u001b[1;33m)\u001b[0m\u001b[1;33m:\u001b[0m\u001b[1;33m\u001b[0m\u001b[0m\n\u001b[1;32m---> 40\u001b[1;33m                 \u001b[0mevaluateAllFitnesses\u001b[0m\u001b[1;33m(\u001b[0m\u001b[0misland\u001b[0m\u001b[1;33m)\u001b[0m\u001b[1;33m\u001b[0m\u001b[0m\n\u001b[0m\u001b[0;32m     41\u001b[0m                 \u001b[0mislandPop\u001b[0m \u001b[1;33m=\u001b[0m \u001b[0mtoolbox\u001b[0m\u001b[1;33m.\u001b[0m\u001b[0mselect\u001b[0m\u001b[1;33m(\u001b[0m\u001b[0misland\u001b[0m\u001b[1;33m,\u001b[0m \u001b[0mk\u001b[0m\u001b[1;33m=\u001b[0m\u001b[0mlen\u001b[0m\u001b[1;33m(\u001b[0m\u001b[0misland\u001b[0m\u001b[1;33m)\u001b[0m\u001b[1;33m)\u001b[0m\u001b[1;33m\u001b[0m\u001b[0m\n\u001b[0;32m     42\u001b[0m                 \u001b[0mislandPop\u001b[0m \u001b[1;33m=\u001b[0m \u001b[0malgorithms\u001b[0m\u001b[1;33m.\u001b[0m\u001b[0mvarAnd\u001b[0m\u001b[1;33m(\u001b[0m\u001b[0mislandPop\u001b[0m\u001b[1;33m,\u001b[0m \u001b[0mtoolbox\u001b[0m\u001b[1;33m,\u001b[0m \u001b[0mcxpb\u001b[0m\u001b[1;33m=\u001b[0m\u001b[0mCXPB\u001b[0m\u001b[1;33m,\u001b[0m \u001b[0mmutpb\u001b[0m\u001b[1;33m=\u001b[0m\u001b[0mMUTPB\u001b[0m\u001b[1;33m)\u001b[0m\u001b[1;33m\u001b[0m\u001b[0m\n",
      "\u001b[1;32m<ipython-input-149-0bb9fcaf5a81>\u001b[0m in \u001b[0;36mevaluateAllFitnesses\u001b[1;34m(pop)\u001b[0m\n\u001b[0;32m      3\u001b[0m     \u001b[0minvalid_ind\u001b[0m \u001b[1;33m=\u001b[0m \u001b[1;33m[\u001b[0m\u001b[0mind\u001b[0m \u001b[1;32mfor\u001b[0m \u001b[0mind\u001b[0m \u001b[1;32min\u001b[0m \u001b[0mpop\u001b[0m \u001b[1;32mif\u001b[0m \u001b[1;32mnot\u001b[0m \u001b[0mind\u001b[0m\u001b[1;33m.\u001b[0m\u001b[0mfitness\u001b[0m\u001b[1;33m.\u001b[0m\u001b[0mvalid\u001b[0m\u001b[1;33m]\u001b[0m\u001b[1;33m\u001b[0m\u001b[0m\n\u001b[0;32m      4\u001b[0m     \u001b[0mfitnesses\u001b[0m \u001b[1;33m=\u001b[0m \u001b[0mtoolbox\u001b[0m\u001b[1;33m.\u001b[0m\u001b[0mmap\u001b[0m\u001b[1;33m(\u001b[0m\u001b[0mtoolbox\u001b[0m\u001b[1;33m.\u001b[0m\u001b[0mevaluate\u001b[0m\u001b[1;33m,\u001b[0m \u001b[0minvalid_ind\u001b[0m\u001b[1;33m)\u001b[0m\u001b[1;33m\u001b[0m\u001b[0m\n\u001b[1;32m----> 5\u001b[1;33m     \u001b[1;32mfor\u001b[0m \u001b[0mind\u001b[0m\u001b[1;33m,\u001b[0m \u001b[0mfit\u001b[0m \u001b[1;32min\u001b[0m \u001b[0mzip\u001b[0m\u001b[1;33m(\u001b[0m\u001b[0minvalid_ind\u001b[0m\u001b[1;33m,\u001b[0m \u001b[0mfitnesses\u001b[0m\u001b[1;33m)\u001b[0m\u001b[1;33m:\u001b[0m\u001b[1;33m\u001b[0m\u001b[0m\n\u001b[0m\u001b[0;32m      6\u001b[0m         \u001b[0mind\u001b[0m\u001b[1;33m.\u001b[0m\u001b[0mfitness\u001b[0m\u001b[1;33m.\u001b[0m\u001b[0mvalues\u001b[0m \u001b[1;33m=\u001b[0m \u001b[0mfit\u001b[0m\u001b[1;33m\u001b[0m\u001b[0m\n",
      "\u001b[1;32m<ipython-input-143-1e95be189c47>\u001b[0m in \u001b[0;36mevaluate\u001b[1;34m(im1, t2)\u001b[0m\n\u001b[0;32m      2\u001b[0m \u001b[1;33m\u001b[0m\u001b[0m\n\u001b[0;32m      3\u001b[0m \u001b[1;32mdef\u001b[0m \u001b[0mevaluate\u001b[0m\u001b[1;33m(\u001b[0m\u001b[0mim1\u001b[0m\u001b[1;33m,\u001b[0m \u001b[0mt2\u001b[0m\u001b[1;33m)\u001b[0m\u001b[1;33m:\u001b[0m\u001b[1;33m\u001b[0m\u001b[0m\n\u001b[1;32m----> 4\u001b[1;33m     \u001b[0mim2\u001b[0m \u001b[1;33m=\u001b[0m \u001b[0mdrawImage\u001b[0m\u001b[1;33m(\u001b[0m\u001b[0mt2\u001b[0m\u001b[1;33m)\u001b[0m\u001b[1;33m\u001b[0m\u001b[0m\n\u001b[0m\u001b[0;32m      5\u001b[0m \u001b[1;33m\u001b[0m\u001b[0m\n\u001b[0;32m      6\u001b[0m     \u001b[0mh\u001b[0m \u001b[1;33m=\u001b[0m \u001b[0mImageChops\u001b[0m\u001b[1;33m.\u001b[0m\u001b[0mdifference\u001b[0m\u001b[1;33m(\u001b[0m\u001b[0mim1\u001b[0m\u001b[1;33m,\u001b[0m \u001b[0mim2\u001b[0m\u001b[1;33m)\u001b[0m\u001b[1;33m.\u001b[0m\u001b[0mhistogram\u001b[0m\u001b[1;33m(\u001b[0m\u001b[1;33m)\u001b[0m\u001b[1;33m\u001b[0m\u001b[0m\n",
      "\u001b[1;32m<ipython-input-142-3d6b50f1abdc>\u001b[0m in \u001b[0;36mdrawImage\u001b[1;34m(triangles)\u001b[0m\n\u001b[0;32m     46\u001b[0m             \u001b[0mdraw\u001b[0m\u001b[1;33m.\u001b[0m\u001b[0mrectangle\u001b[0m\u001b[1;33m(\u001b[0m\u001b[1;33m[\u001b[0m\u001b[0mx1\u001b[0m\u001b[1;33m,\u001b[0m \u001b[0my1\u001b[0m\u001b[1;33m,\u001b[0m \u001b[0mx2\u001b[0m\u001b[1;33m,\u001b[0m \u001b[0my2\u001b[0m\u001b[1;33m]\u001b[0m\u001b[1;33m,\u001b[0m \u001b[0mfill\u001b[0m\u001b[1;33m=\u001b[0m\u001b[0mfillColor\u001b[0m\u001b[1;33m)\u001b[0m\u001b[1;33m\u001b[0m\u001b[0m\n\u001b[0;32m     47\u001b[0m \u001b[1;33m\u001b[0m\u001b[0m\n\u001b[1;32m---> 48\u001b[1;33m         \u001b[0mim\u001b[0m\u001b[1;33m.\u001b[0m\u001b[0mpaste\u001b[0m\u001b[1;33m(\u001b[0m\u001b[0mmask\u001b[0m\u001b[1;33m,\u001b[0m \u001b[0mmask\u001b[0m\u001b[1;33m=\u001b[0m\u001b[0mmask\u001b[0m\u001b[1;33m)\u001b[0m\u001b[1;33m\u001b[0m\u001b[0m\n\u001b[0m\u001b[0;32m     49\u001b[0m         \u001b[1;32mdel\u001b[0m \u001b[0mmask\u001b[0m\u001b[1;33m,\u001b[0m \u001b[0mdraw\u001b[0m\u001b[1;33m\u001b[0m\u001b[0m\n\u001b[0;32m     50\u001b[0m     \u001b[1;32mreturn\u001b[0m \u001b[0mim\u001b[0m\u001b[1;33m\u001b[0m\u001b[0m\n",
      "\u001b[1;32m~\\Anaconda3\\lib\\site-packages\\PIL\\Image.py\u001b[0m in \u001b[0;36mpaste\u001b[1;34m(self, im, box, mask)\u001b[0m\n\u001b[0;32m   1317\u001b[0m         \u001b[1;32mif\u001b[0m \u001b[0mmask\u001b[0m\u001b[1;33m:\u001b[0m\u001b[1;33m\u001b[0m\u001b[0m\n\u001b[0;32m   1318\u001b[0m             \u001b[0mmask\u001b[0m\u001b[1;33m.\u001b[0m\u001b[0mload\u001b[0m\u001b[1;33m(\u001b[0m\u001b[1;33m)\u001b[0m\u001b[1;33m\u001b[0m\u001b[0m\n\u001b[1;32m-> 1319\u001b[1;33m             \u001b[0mself\u001b[0m\u001b[1;33m.\u001b[0m\u001b[0mim\u001b[0m\u001b[1;33m.\u001b[0m\u001b[0mpaste\u001b[0m\u001b[1;33m(\u001b[0m\u001b[0mim\u001b[0m\u001b[1;33m,\u001b[0m \u001b[0mbox\u001b[0m\u001b[1;33m,\u001b[0m \u001b[0mmask\u001b[0m\u001b[1;33m.\u001b[0m\u001b[0mim\u001b[0m\u001b[1;33m)\u001b[0m\u001b[1;33m\u001b[0m\u001b[0m\n\u001b[0m\u001b[0;32m   1320\u001b[0m         \u001b[1;32melse\u001b[0m\u001b[1;33m:\u001b[0m\u001b[1;33m\u001b[0m\u001b[0m\n\u001b[0;32m   1321\u001b[0m             \u001b[0mself\u001b[0m\u001b[1;33m.\u001b[0m\u001b[0mim\u001b[0m\u001b[1;33m.\u001b[0m\u001b[0mpaste\u001b[0m\u001b[1;33m(\u001b[0m\u001b[0mim\u001b[0m\u001b[1;33m,\u001b[0m \u001b[0mbox\u001b[0m\u001b[1;33m)\u001b[0m\u001b[1;33m\u001b[0m\u001b[0m\n",
      "\u001b[1;31mKeyboardInterrupt\u001b[0m: "
     ]
    }
   ],
   "source": [
    "\n",
    "def main(checkpoint=None):\n",
    "    if checkpoint and os.path.isfile(checkpoint):\n",
    "        # A file name has been given, then load the data from the file\n",
    "        with open(checkpoint, \"rb\") as cp_file:\n",
    "            cp = pickle.load(cp_file)\n",
    "        islands = cp[\"islands\"]\n",
    "        start_gen = cp[\"generation\"]\n",
    "        hof = cp[\"halloffame\"]\n",
    "        logbook = cp[\"logbook\"]\n",
    "        random.setstate(cp[\"rndstate\"])\n",
    "    else:\n",
    "        # Start a new evolution\n",
    "        islands = [toolbox.population(n=POPULATION) for i in range(NUM_ISLANDS)]\n",
    "        start_gen = 0\n",
    "        hof = tools.HallOfFame(maxsize=1)\n",
    "        logbook = tools.Logbook()\n",
    "\n",
    "    stats_fit = tools.Statistics(lambda ind: ind.fitness.values)\n",
    "    stats_pop_trends = tools.Statistics(lambda ind: ind)\n",
    "    stats_fit.register(\"std\", numpy.std)\n",
    "    stats_fit.register(\"max\", numpy.max)\n",
    "    stats_fit.register(\"avg\", numpy.mean)\n",
    "    stats_fit.register(\"min\", numpy.min)\n",
    "    stats_pop_trends.register(\"similarity\", computeSimilarity)\n",
    "    stats_pop_trends.register(\"mutation_random\", computeMutationRatesStats_Random)\n",
    "    stats_pop_trends.register(\"mutation_small\", computeMutationRatesStats_Small)\n",
    "    stats_pop_trends.register(\"mutation_large\", computeMutationRatesStats_Big)\n",
    "    stats_pop_trends.register(\"mutation_rounds\", computeMutationRatesStats_Rounds)\n",
    "\n",
    "    mstats = tools.MultiStatistics(fitness=stats_fit, stats_pop_trends=stats_pop_trends)\n",
    "\n",
    "    log = \"\"\n",
    "    try:\n",
    "        for gen in range(start_gen, NGEN):\n",
    "            totalPop = []\n",
    "            \n",
    "\n",
    "            for islandIndex, island in enumerate(islands):\n",
    "                evaluateAllFitnesses(island)\n",
    "                islandPop = toolbox.select(island, k=len(island))\n",
    "                islandPop = algorithms.varAnd(islandPop, toolbox, cxpb=CXPB, mutpb=MUTPB)\n",
    "                islands[islandIndex] = islandPop\n",
    "                \n",
    "                totalPop = totalPop + islandPop\n",
    "            \n",
    "            if gen % MIG_RATE == 0:\n",
    "                migRingOrder = list(range(NUM_ISLANDS))\n",
    "            \n",
    "                random.shuffle(migRingOrder)\n",
    "                tools.migRing(islands, k=1, selection=tools.selRandom, migarray=migRingOrder)\n",
    "                \n",
    "            totalPop = list(map(toolbox.clone, totalPop))\n",
    "                \n",
    "            # Evaluate the individuals with an invalid fitness\n",
    "            invalid_ind = [ind for ind in totalPop if not ind.fitness.valid]\n",
    "            fitnesses = toolbox.map(toolbox.evaluate, invalid_ind)\n",
    "            for ind, fit in zip(invalid_ind, fitnesses):\n",
    "                ind.fitness.values = fit\n",
    "                \n",
    "            hof.update(totalPop)\n",
    "            record = mstats.compile(totalPop)\n",
    "            logbook.record(gen=gen, evals=len(invalid_ind), **record)\n",
    "            print(logbook.stream)\n",
    "\n",
    "            if gen % FREQ == 0:\n",
    "                # Fill the dictionary using the dict(key=value[, ...])\n",
    "                # constructor\n",
    "                cp = dict(islands=islands, generation=gen, halloffame=hof,\n",
    "                          logbook=logbook, rndstate=random.getstate())\n",
    "\n",
    "                with open(\"checkpoint.pkl\", \"wb\") as cp_file:\n",
    "                    pickle.dump(cp, cp_file)\n",
    "                    \n",
    "                    df_log = logbookToDataframe(logbook)\n",
    "                    df_log.to_csv('stats.txt', index=False)\n",
    "                    open('result.txt', 'w').write(repr(hof[0]))\n",
    "                    drawImage(hof[0]).save('result.png')\n",
    "\n",
    "    finally:\n",
    "        df_log = logbookToDataframe(logbook)\n",
    "        df_log.to_csv('stats.txt', index=False)\n",
    "        open('result.txt', 'w').write(repr(hof[0]))\n",
    "        a = drawImage(hof[0])\n",
    "        drawImage(hof[0]).save('result.png')\n",
    "    return logbook\n",
    "\n",
    "if __name__ == '__main__':\n",
    "        main(\"checkpoint.pkl\")\n",
    "    # main()"
   ]
  },
  {
   "cell_type": "code",
   "execution_count": null,
   "metadata": {
    "collapsed": true
   },
   "outputs": [],
   "source": []
  },
  {
   "cell_type": "code",
   "execution_count": null,
   "metadata": {
    "collapsed": false
   },
   "outputs": [],
   "source": [
    "\n",
    "#main()\n",
    "#import cProfile\n",
    "#cProfile.run('main(\"checkpoint.pkl\")')\n",
    "#cProfile.run('main()')\n"
   ]
  },
  {
   "cell_type": "code",
   "execution_count": null,
   "metadata": {
    "collapsed": false,
    "scrolled": true
   },
   "outputs": [],
   "source": []
  },
  {
   "cell_type": "code",
   "execution_count": null,
   "metadata": {
    "collapsed": false
   },
   "outputs": [],
   "source": []
  },
  {
   "cell_type": "code",
   "execution_count": null,
   "metadata": {
    "collapsed": false
   },
   "outputs": [],
   "source": []
  },
  {
   "cell_type": "code",
   "execution_count": null,
   "metadata": {
    "collapsed": false
   },
   "outputs": [],
   "source": []
  }
 ],
 "metadata": {
  "kernelspec": {
   "display_name": "Python 3",
   "language": "python",
   "name": "python3"
  },
  "language_info": {
   "codemirror_mode": {
    "name": "ipython",
    "version": 3
   },
   "file_extension": ".py",
   "mimetype": "text/x-python",
   "name": "python",
   "nbconvert_exporter": "python",
   "pygments_lexer": "ipython3",
   "version": "3.5.4"
  }
 },
 "nbformat": 4,
 "nbformat_minor": 0
}
